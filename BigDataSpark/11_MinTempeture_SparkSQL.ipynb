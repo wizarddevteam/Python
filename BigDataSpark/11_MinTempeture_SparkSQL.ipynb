{
  "nbformat": 4,
  "nbformat_minor": 0,
  "metadata": {
    "colab": {
      "name": "11_MinTempeture_SparkSQL.ipynb",
      "provenance": []
    },
    "kernelspec": {
      "name": "python3",
      "display_name": "Python 3"
    },
    "language_info": {
      "name": "python"
    }
  },
  "cells": [
    {
      "cell_type": "code",
      "execution_count": 1,
      "metadata": {
        "colab": {
          "base_uri": "https://localhost:8080/"
        },
        "id": "gh2-GWT0rHw8",
        "outputId": "8719d325-0e4a-4de7-ea8b-e2a67e335c67"
      },
      "outputs": [
        {
          "output_type": "stream",
          "name": "stdout",
          "text": [
            "Collecting pyspark\n",
            "  Downloading pyspark-3.2.1.tar.gz (281.4 MB)\n",
            "\u001b[K     |████████████████████████████████| 281.4 MB 34 kB/s \n",
            "\u001b[?25hCollecting py4j==0.10.9.3\n",
            "  Downloading py4j-0.10.9.3-py2.py3-none-any.whl (198 kB)\n",
            "\u001b[K     |████████████████████████████████| 198 kB 50.5 MB/s \n",
            "\u001b[?25hBuilding wheels for collected packages: pyspark\n",
            "  Building wheel for pyspark (setup.py) ... \u001b[?25l\u001b[?25hdone\n",
            "  Created wheel for pyspark: filename=pyspark-3.2.1-py2.py3-none-any.whl size=281853642 sha256=3feea2e660402ab69ab2ddf7d4e12a0795d07a82c95e32f8febaf44879ad444d\n",
            "  Stored in directory: /root/.cache/pip/wheels/9f/f5/07/7cd8017084dce4e93e84e92efd1e1d5334db05f2e83bcef74f\n",
            "Successfully built pyspark\n",
            "Installing collected packages: py4j, pyspark\n",
            "Successfully installed py4j-0.10.9.3 pyspark-3.2.1\n"
          ]
        }
      ],
      "source": [
        "pip install pyspark"
      ]
    },
    {
      "cell_type": "code",
      "source": [
        "from pyspark.sql import SparkSession\n",
        "from pyspark.sql import functions as func\n",
        "from pyspark.sql.types import StructType, StructField, StringType, IntegerType, FloatType"
      ],
      "metadata": {
        "id": "gQEfJOuRrlLq"
      },
      "execution_count": 2,
      "outputs": []
    },
    {
      "cell_type": "code",
      "source": [
        "spark = SparkSession.builder.appName(\"MinTemperatures\").getOrCreate()"
      ],
      "metadata": {
        "id": "V30Jg7JEroDt"
      },
      "execution_count": 3,
      "outputs": []
    },
    {
      "cell_type": "code",
      "source": [
        "schema = StructType([ \\\n",
        "                     StructField(\"stationID\", StringType(), True), \\\n",
        "                     StructField(\"date\", IntegerType(), True), \\\n",
        "                     StructField(\"measure_type\", StringType(), True), \\\n",
        "                     StructField(\"temperature\", FloatType(), True)])"
      ],
      "metadata": {
        "id": "HlzpHR3Lrr6U"
      },
      "execution_count": 4,
      "outputs": []
    },
    {
      "cell_type": "code",
      "source": [
        "# // Read the file as dataframe\n",
        "df = spark.read.schema(schema).csv(\"/content/drive/MyDrive/SparkCourse/1800.csv\")\n",
        "df.printSchema()"
      ],
      "metadata": {
        "colab": {
          "base_uri": "https://localhost:8080/"
        },
        "id": "4ANSsH0ervXu",
        "outputId": "c6fc83d2-8c59-4b10-f411-1923cd8634c7"
      },
      "execution_count": 5,
      "outputs": [
        {
          "output_type": "stream",
          "name": "stdout",
          "text": [
            "root\n",
            " |-- stationID: string (nullable = true)\n",
            " |-- date: integer (nullable = true)\n",
            " |-- measure_type: string (nullable = true)\n",
            " |-- temperature: float (nullable = true)\n",
            "\n"
          ]
        }
      ]
    },
    {
      "cell_type": "code",
      "source": [
        "# Filter out all but TMIN entries\n",
        "minTemps = df.filter(df.measure_type == \"TMIN\")\n",
        "\n",
        "# Select only stationID and temperature\n",
        "stationTemps = minTemps.select(\"stationID\", \"temperature\")\n",
        "\n",
        "# Aggregate to find minimum temperature for every station\n",
        "minTempsByStation = stationTemps.groupBy(\"stationID\").min(\"temperature\")\n",
        "minTempsByStation.show()"
      ],
      "metadata": {
        "colab": {
          "base_uri": "https://localhost:8080/"
        },
        "id": "SHBadxP2r3nD",
        "outputId": "37c0fb27-cc22-4bc8-e9e7-c837b5569d1d"
      },
      "execution_count": 6,
      "outputs": [
        {
          "output_type": "stream",
          "name": "stdout",
          "text": [
            "+-----------+----------------+\n",
            "|  stationID|min(temperature)|\n",
            "+-----------+----------------+\n",
            "|ITE00100554|          -148.0|\n",
            "|EZE00100082|          -135.0|\n",
            "+-----------+----------------+\n",
            "\n"
          ]
        }
      ]
    },
    {
      "cell_type": "code",
      "source": [
        "# Convert temperature to fahrenheit and sort the dataset\n",
        "minTempsByStationF = minTempsByStation.withColumn(\"temperature\",\n",
        "                                                  func.round(func.col(\"min(temperature)\") * 0.1 * (9.0 / 5.0) + 32.0, 2))\\\n",
        "                                                  .select(\"stationID\", \"temperature\").sort(\"temperature\")\n",
        "                                                  \n",
        "# Collect, format, and print the results\n",
        "results = minTempsByStationF.collect()"
      ],
      "metadata": {
        "id": "grqWfvOvr-q2"
      },
      "execution_count": 7,
      "outputs": []
    },
    {
      "cell_type": "code",
      "source": [
        "for result in results:\n",
        "    print(result[0] + \"\\t{:.2f}F\".format(result[1]))\n",
        "    \n",
        "spark.stop()"
      ],
      "metadata": {
        "colab": {
          "base_uri": "https://localhost:8080/"
        },
        "id": "TjvDTRiusDaX",
        "outputId": "34ab5910-20f4-43b1-e336-2689f6f01525"
      },
      "execution_count": 8,
      "outputs": [
        {
          "output_type": "stream",
          "name": "stdout",
          "text": [
            "ITE00100554\t5.36F\n",
            "EZE00100082\t7.70F\n"
          ]
        }
      ]
    }
  ]
}