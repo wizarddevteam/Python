{
  "nbformat": 4,
  "nbformat_minor": 0,
  "metadata": {
    "colab": {
      "name": "16_Less_Popular_Superhero.ipynb",
      "provenance": []
    },
    "kernelspec": {
      "name": "python3",
      "display_name": "Python 3"
    },
    "language_info": {
      "name": "python"
    }
  },
  "cells": [
    {
      "cell_type": "code",
      "execution_count": 1,
      "metadata": {
        "colab": {
          "base_uri": "https://localhost:8080/"
        },
        "id": "01MdGg523mCj",
        "outputId": "8edaa41e-bb9a-40f9-eb24-14e6f458bdc5"
      },
      "outputs": [
        {
          "output_type": "stream",
          "name": "stdout",
          "text": [
            "Collecting pyspark\n",
            "  Downloading pyspark-3.2.1.tar.gz (281.4 MB)\n",
            "\u001b[K     |████████████████████████████████| 281.4 MB 40 kB/s \n",
            "\u001b[?25hCollecting py4j==0.10.9.3\n",
            "  Downloading py4j-0.10.9.3-py2.py3-none-any.whl (198 kB)\n",
            "\u001b[K     |████████████████████████████████| 198 kB 63.7 MB/s \n",
            "\u001b[?25hBuilding wheels for collected packages: pyspark\n",
            "  Building wheel for pyspark (setup.py) ... \u001b[?25l\u001b[?25hdone\n",
            "  Created wheel for pyspark: filename=pyspark-3.2.1-py2.py3-none-any.whl size=281853642 sha256=31add517ef261cdb420eda65dc8a58e1b15c63f2580fe0cbf6821e255e4f35ef\n",
            "  Stored in directory: /root/.cache/pip/wheels/9f/f5/07/7cd8017084dce4e93e84e92efd1e1d5334db05f2e83bcef74f\n",
            "Successfully built pyspark\n",
            "Installing collected packages: py4j, pyspark\n",
            "Successfully installed py4j-0.10.9.3 pyspark-3.2.1\n"
          ]
        }
      ],
      "source": [
        "pip install pyspark"
      ]
    },
    {
      "cell_type": "code",
      "source": [
        "from pyspark.sql import SparkSession\n",
        "from pyspark.sql import functions as func\n",
        "from pyspark.sql.types import StructType, StructField, IntegerType, StringType"
      ],
      "metadata": {
        "id": "vbXoDa9i36dz"
      },
      "execution_count": 2,
      "outputs": []
    },
    {
      "cell_type": "code",
      "source": [
        "spark = SparkSession.builder.appName(\"LessPopularSuperhero\").getOrCreate()"
      ],
      "metadata": {
        "id": "Ut06TMIB4Gex"
      },
      "execution_count": 3,
      "outputs": []
    },
    {
      "cell_type": "code",
      "source": [
        "schema = StructType([ \\\n",
        "                     StructField(\"id\", IntegerType(), True), \\\n",
        "                     StructField(\"name\", StringType(), True)])"
      ],
      "metadata": {
        "id": "V8azsqT94Mo1"
      },
      "execution_count": 4,
      "outputs": []
    },
    {
      "cell_type": "code",
      "source": [
        "names = spark.read.schema(schema).option(\"sep\", \" \").csv(\"/content/drive/MyDrive/SparkCourse/Marvel-Names\")\n",
        "\n",
        "lines = spark.read.text(\"/content/drive/MyDrive/SparkCourse/Marvel-Graph\")"
      ],
      "metadata": {
        "id": "T4Pi-TYp4QSi"
      },
      "execution_count": 5,
      "outputs": []
    },
    {
      "cell_type": "code",
      "source": [
        "# Small tweak vs. what's shown in the video: we trim each line of whitespace as that could\n",
        "# throw off the counts.\n",
        "connections = lines.withColumn(\"id\", func.split(func.trim(func.col(\"value\")), \" \")[0]) \\\n",
        "    .withColumn(\"connections\", func.size(func.split(func.trim(func.col(\"value\")), \" \")) - 1) \\\n",
        "    .groupBy(\"id\").agg(func.sum(\"connections\").alias(\"connections\"))"
      ],
      "metadata": {
        "id": "kqhKa-QU4Xbn"
      },
      "execution_count": 6,
      "outputs": []
    },
    {
      "cell_type": "code",
      "source": [
        "lessPopular = connections.filter(func.col(\"connections\") == 1).select(\"id\",\"connections\")\n",
        "lessPopular.show()"
      ],
      "metadata": {
        "colab": {
          "base_uri": "https://localhost:8080/"
        },
        "id": "nSZK5XO_4hPc",
        "outputId": "981d0213-3334-41a7-95d6-8a8f13548181"
      },
      "execution_count": 9,
      "outputs": [
        {
          "output_type": "stream",
          "name": "stdout",
          "text": [
            "+----+-----------+\n",
            "|  id|connections|\n",
            "+----+-----------+\n",
            "|3967|          1|\n",
            "|2180|          1|\n",
            "|3447|          1|\n",
            "|4819|          1|\n",
            "|2532|          1|\n",
            "|1877|          1|\n",
            "|5286|          1|\n",
            "|3793|          1|\n",
            "|5189|          1|\n",
            "|3518|          1|\n",
            "|2914|          1|\n",
            "|4364|          1|\n",
            "| 620|          1|\n",
            "|5246|          1|\n",
            "|5425|          1|\n",
            "|1200|          1|\n",
            "|1167|          1|\n",
            "|2072|          1|\n",
            "|4184|          1|\n",
            "|1890|          1|\n",
            "+----+-----------+\n",
            "only showing top 20 rows\n",
            "\n"
          ]
        }
      ]
    },
    {
      "cell_type": "code",
      "source": [
        "lessPopularName = lessPopular.join(names, \"id\")"
      ],
      "metadata": {
        "id": "k5xQa8UoD1Nb"
      },
      "execution_count": 44,
      "outputs": []
    },
    {
      "cell_type": "code",
      "source": [
        "lessPopularName.select(\"id\",\"name\",\"connections\").show()"
      ],
      "metadata": {
        "colab": {
          "base_uri": "https://localhost:8080/"
        },
        "id": "4aHfTd7KENET",
        "outputId": "9ed851e1-faec-4617-fb47-21cd4a9676b2"
      },
      "execution_count": 45,
      "outputs": [
        {
          "output_type": "stream",
          "name": "stdout",
          "text": [
            "+----+--------------------+-----------+\n",
            "|  id|                name|connections|\n",
            "+----+--------------------+-----------+\n",
            "|3967|              NIMROD|          1|\n",
            "|2180|                GOOM|          1|\n",
            "|3447|         MARAUDER II|          1|\n",
            "|4819|                SAJA|          1|\n",
            "|2532|HOUSTON, LT. COMMAND|          1|\n",
            "|1877|            FIREBOLT|          1|\n",
            "|5286|SPARROW BEAR, MELLIS|          1|\n",
            "|3793|               MOTH/|          1|\n",
            "|5189|             SLAYER/|          1|\n",
            "|3518| MASTER OF VENGEANCE|          1|\n",
            "|2914|    KURLYCHEK, PATTY|          1|\n",
            "|4364|   PROFESSOR GIBBON/|          1|\n",
            "| 620|          BLOWTORCH/|          1|\n",
            "|5246|    SNOW QUEEN/GITTE|          1|\n",
            "|5425|       STERLING, SID|          1|\n",
            "|1200|  COVEY, LAWRENCE K.|          1|\n",
            "|1167|        COOPER, TERI|          1|\n",
            "|2072|      GARNOK REBBAHN|          1|\n",
            "|4184|        PEACEMONGER/|          1|\n",
            "|1890|          FIREFLY II|          1|\n",
            "+----+--------------------+-----------+\n",
            "only showing top 20 rows\n",
            "\n"
          ]
        }
      ]
    },
    {
      "cell_type": "code",
      "source": [
        "names.where(names.id == str(lessPopular.id).show()\n",
        "#names.filter(func.col(\"id\").isin(lessPopular[\"id\"])).select(\"id\",\"name\").show()\n",
        "#df.filter(col(\"state\") === \"OH\").show(false)"
      ],
      "metadata": {
        "colab": {
          "base_uri": "https://localhost:8080/",
          "height": 130
        },
        "id": "RsFHESDv5oFd",
        "outputId": "5b274912-41bd-458a-d5b8-4cdb7f5b2280"
      },
      "execution_count": 43,
      "outputs": [
        {
          "output_type": "error",
          "ename": "SyntaxError",
          "evalue": "ignored",
          "traceback": [
            "\u001b[0;36m  File \u001b[0;32m\"<ipython-input-43-603bcbd37f5b>\"\u001b[0;36m, line \u001b[0;32m3\u001b[0m\n\u001b[0;31m    #df.filter(col(\"state\") === \"OH\").show(false)\u001b[0m\n\u001b[0m                                                 ^\u001b[0m\n\u001b[0;31mSyntaxError\u001b[0m\u001b[0;31m:\u001b[0m unexpected EOF while parsing\n"
          ]
        }
      ]
    }
  ]
}