{
  "nbformat": 4,
  "nbformat_minor": 0,
  "metadata": {
    "colab": {
      "name": "8_SelectFilterGroupBy_SparkSQL.ipynb",
      "provenance": []
    },
    "kernelspec": {
      "name": "python3",
      "display_name": "Python 3"
    },
    "language_info": {
      "name": "python"
    }
  },
  "cells": [
    {
      "cell_type": "code",
      "execution_count": 1,
      "metadata": {
        "colab": {
          "base_uri": "https://localhost:8080/"
        },
        "id": "F2xsODWfcbZg",
        "outputId": "61d35f5b-dee9-434a-a6c8-2af97c0c0076"
      },
      "outputs": [
        {
          "output_type": "stream",
          "name": "stdout",
          "text": [
            "Collecting pyspark\n",
            "  Downloading pyspark-3.2.1.tar.gz (281.4 MB)\n",
            "\u001b[K     |████████████████████████████████| 281.4 MB 34 kB/s \n",
            "\u001b[?25hCollecting py4j==0.10.9.3\n",
            "  Downloading py4j-0.10.9.3-py2.py3-none-any.whl (198 kB)\n",
            "\u001b[K     |████████████████████████████████| 198 kB 54.5 MB/s \n",
            "\u001b[?25hBuilding wheels for collected packages: pyspark\n",
            "  Building wheel for pyspark (setup.py) ... \u001b[?25l\u001b[?25hdone\n",
            "  Created wheel for pyspark: filename=pyspark-3.2.1-py2.py3-none-any.whl size=281853642 sha256=f8e6288ef7cf555a652e6f310d3e75b58abdca4869c05eb2f556e154149cd184\n",
            "  Stored in directory: /root/.cache/pip/wheels/9f/f5/07/7cd8017084dce4e93e84e92efd1e1d5334db05f2e83bcef74f\n",
            "Successfully built pyspark\n",
            "Installing collected packages: py4j, pyspark\n",
            "Successfully installed py4j-0.10.9.3 pyspark-3.2.1\n"
          ]
        }
      ],
      "source": [
        "pip install pyspark"
      ]
    },
    {
      "cell_type": "code",
      "source": [
        "from pyspark.sql import SparkSession"
      ],
      "metadata": {
        "id": "h6lD2XdhcmYG"
      },
      "execution_count": 3,
      "outputs": []
    },
    {
      "cell_type": "code",
      "source": [
        "spark = SparkSession.builder.appName(\"SparkSQL\").getOrCreate()"
      ],
      "metadata": {
        "id": "BFjRbW6cc7Y9"
      },
      "execution_count": 4,
      "outputs": []
    },
    {
      "cell_type": "code",
      "source": [
        "people = spark.read.option(\"header\", \"true\").option(\"inferSchema\", \"true\")\\\n",
        "    .csv(\"/content/drive/MyDrive/SparkCourse/fakefriends-header.csv\")"
      ],
      "metadata": {
        "id": "rjTbWj66c-In"
      },
      "execution_count": 5,
      "outputs": []
    },
    {
      "cell_type": "code",
      "source": [
        "print(\"Here is our inferred schema:\")\n",
        "people.printSchema()"
      ],
      "metadata": {
        "colab": {
          "base_uri": "https://localhost:8080/"
        },
        "id": "X-PbBQXbdFF_",
        "outputId": "52b2e23f-fde2-40f9-abf2-e1f7c651d7c7"
      },
      "execution_count": 6,
      "outputs": [
        {
          "output_type": "stream",
          "name": "stdout",
          "text": [
            "Here is our inferred schema:\n",
            "root\n",
            " |-- userID: integer (nullable = true)\n",
            " |-- name: string (nullable = true)\n",
            " |-- age: integer (nullable = true)\n",
            " |-- friends: integer (nullable = true)\n",
            "\n"
          ]
        }
      ]
    },
    {
      "cell_type": "code",
      "source": [
        "print(\"Let's display the name column:\")\n",
        "people.select(\"name\").show()"
      ],
      "metadata": {
        "colab": {
          "base_uri": "https://localhost:8080/"
        },
        "id": "qyznNZSwdMYN",
        "outputId": "14a32faf-47c9-4740-c408-140a902aa7cd"
      },
      "execution_count": 7,
      "outputs": [
        {
          "output_type": "stream",
          "name": "stdout",
          "text": [
            "Let's display the name column:\n",
            "+--------+\n",
            "|    name|\n",
            "+--------+\n",
            "|    Will|\n",
            "|Jean-Luc|\n",
            "|    Hugh|\n",
            "|  Deanna|\n",
            "|   Quark|\n",
            "|  Weyoun|\n",
            "|  Gowron|\n",
            "|    Will|\n",
            "|  Jadzia|\n",
            "|    Hugh|\n",
            "|     Odo|\n",
            "|     Ben|\n",
            "|   Keiko|\n",
            "|Jean-Luc|\n",
            "|    Hugh|\n",
            "|     Rom|\n",
            "|  Weyoun|\n",
            "|     Odo|\n",
            "|Jean-Luc|\n",
            "|  Geordi|\n",
            "+--------+\n",
            "only showing top 20 rows\n",
            "\n"
          ]
        }
      ]
    },
    {
      "cell_type": "code",
      "source": [
        "print(\"Filter out anyone over 21:\")\n",
        "people.filter(people.age < 21).show()"
      ],
      "metadata": {
        "colab": {
          "base_uri": "https://localhost:8080/"
        },
        "id": "PflI0XJldQmx",
        "outputId": "5883f3e5-1f27-41a7-fc08-5ab6e2323ffc"
      },
      "execution_count": 8,
      "outputs": [
        {
          "output_type": "stream",
          "name": "stdout",
          "text": [
            "Filter out anyone over 21:\n",
            "+------+-------+---+-------+\n",
            "|userID|   name|age|friends|\n",
            "+------+-------+---+-------+\n",
            "|    21|  Miles| 19|    268|\n",
            "|    48|    Nog| 20|      1|\n",
            "|    52|Beverly| 19|    269|\n",
            "|    54|  Brunt| 19|      5|\n",
            "|    60| Geordi| 20|    100|\n",
            "|    73|  Brunt| 20|    384|\n",
            "|   106|Beverly| 18|    499|\n",
            "|   115|  Dukat| 18|    397|\n",
            "|   133|  Quark| 19|    265|\n",
            "|   136|   Will| 19|    335|\n",
            "|   225|   Elim| 19|    106|\n",
            "|   304|   Will| 19|    404|\n",
            "|   327| Julian| 20|     63|\n",
            "|   341|   Data| 18|    326|\n",
            "|   349| Kasidy| 20|    277|\n",
            "|   366|  Keiko| 19|    119|\n",
            "|   373|  Quark| 19|    272|\n",
            "|   377|Beverly| 18|    418|\n",
            "|   404| Kasidy| 18|     24|\n",
            "|   409|    Nog| 19|    267|\n",
            "+------+-------+---+-------+\n",
            "only showing top 20 rows\n",
            "\n"
          ]
        }
      ]
    },
    {
      "cell_type": "code",
      "source": [
        "print(\"Group by age\")\n",
        "people.groupBy(\"age\").count().show()"
      ],
      "metadata": {
        "colab": {
          "base_uri": "https://localhost:8080/"
        },
        "id": "nuu9KDVHdUYu",
        "outputId": "d74902eb-7d3e-49b0-b860-ca67b3b38f9d"
      },
      "execution_count": 9,
      "outputs": [
        {
          "output_type": "stream",
          "name": "stdout",
          "text": [
            "Group by age\n",
            "+---+-----+\n",
            "|age|count|\n",
            "+---+-----+\n",
            "| 31|    8|\n",
            "| 65|    5|\n",
            "| 53|    7|\n",
            "| 34|    6|\n",
            "| 28|   10|\n",
            "| 26|   17|\n",
            "| 27|    8|\n",
            "| 44|   12|\n",
            "| 22|    7|\n",
            "| 47|    9|\n",
            "| 52|   11|\n",
            "| 40|   17|\n",
            "| 20|    5|\n",
            "| 57|   12|\n",
            "| 54|   13|\n",
            "| 48|   10|\n",
            "| 19|   11|\n",
            "| 64|   12|\n",
            "| 41|    9|\n",
            "| 43|    7|\n",
            "+---+-----+\n",
            "only showing top 20 rows\n",
            "\n"
          ]
        }
      ]
    },
    {
      "cell_type": "code",
      "source": [
        "print(\"Make everyone 10 years older:\")\n",
        "people.select(people.name, people.age + 10).show()\n",
        "\n",
        "spark.stop()"
      ],
      "metadata": {
        "colab": {
          "base_uri": "https://localhost:8080/"
        },
        "id": "2xDYkxiQdZOa",
        "outputId": "f8b1a58b-566e-47ed-83d9-e7c229a4a0c8"
      },
      "execution_count": 10,
      "outputs": [
        {
          "output_type": "stream",
          "name": "stdout",
          "text": [
            "Make everyone 10 years older:\n",
            "+--------+----------+\n",
            "|    name|(age + 10)|\n",
            "+--------+----------+\n",
            "|    Will|        43|\n",
            "|Jean-Luc|        36|\n",
            "|    Hugh|        65|\n",
            "|  Deanna|        50|\n",
            "|   Quark|        78|\n",
            "|  Weyoun|        69|\n",
            "|  Gowron|        47|\n",
            "|    Will|        64|\n",
            "|  Jadzia|        48|\n",
            "|    Hugh|        37|\n",
            "|     Odo|        63|\n",
            "|     Ben|        67|\n",
            "|   Keiko|        64|\n",
            "|Jean-Luc|        66|\n",
            "|    Hugh|        53|\n",
            "|     Rom|        46|\n",
            "|  Weyoun|        32|\n",
            "|     Odo|        45|\n",
            "|Jean-Luc|        55|\n",
            "|  Geordi|        70|\n",
            "+--------+----------+\n",
            "only showing top 20 rows\n",
            "\n"
          ]
        }
      ]
    }
  ]
}