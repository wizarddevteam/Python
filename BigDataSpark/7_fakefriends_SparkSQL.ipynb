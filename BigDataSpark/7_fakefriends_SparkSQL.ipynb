{
  "nbformat": 4,
  "nbformat_minor": 0,
  "metadata": {
    "colab": {
      "name": "7_fakefriends_SparkSQL.ipynb",
      "provenance": []
    },
    "kernelspec": {
      "name": "python3",
      "display_name": "Python 3"
    },
    "language_info": {
      "name": "python"
    }
  },
  "cells": [
    {
      "cell_type": "code",
      "execution_count": 1,
      "metadata": {
        "colab": {
          "base_uri": "https://localhost:8080/"
        },
        "id": "8zVcL9AJZOU8",
        "outputId": "9e6bc1dc-658c-454a-f34f-b9e91ae971a4"
      },
      "outputs": [
        {
          "output_type": "stream",
          "name": "stdout",
          "text": [
            "Collecting pyspark\n",
            "  Downloading pyspark-3.2.1.tar.gz (281.4 MB)\n",
            "\u001b[K     |████████████████████████████████| 281.4 MB 33 kB/s \n",
            "\u001b[?25hCollecting py4j==0.10.9.3\n",
            "  Downloading py4j-0.10.9.3-py2.py3-none-any.whl (198 kB)\n",
            "\u001b[K     |████████████████████████████████| 198 kB 39.6 MB/s \n",
            "\u001b[?25hBuilding wheels for collected packages: pyspark\n",
            "  Building wheel for pyspark (setup.py) ... \u001b[?25l\u001b[?25hdone\n",
            "  Created wheel for pyspark: filename=pyspark-3.2.1-py2.py3-none-any.whl size=281853642 sha256=b2b2b98af46f792ab4333a1f7d38e2501100019e5f7c433105b11e3314995336\n",
            "  Stored in directory: /root/.cache/pip/wheels/9f/f5/07/7cd8017084dce4e93e84e92efd1e1d5334db05f2e83bcef74f\n",
            "Successfully built pyspark\n",
            "Installing collected packages: py4j, pyspark\n",
            "Successfully installed py4j-0.10.9.3 pyspark-3.2.1\n"
          ]
        }
      ],
      "source": [
        "pip install pyspark"
      ]
    },
    {
      "cell_type": "code",
      "source": [
        "from pyspark.sql import SparkSession\n",
        "from pyspark.sql import Row"
      ],
      "metadata": {
        "id": "YKIRWRqwZgNV"
      },
      "execution_count": 2,
      "outputs": []
    },
    {
      "cell_type": "code",
      "source": [
        "# Create a SparkSession\n",
        "spark = SparkSession.builder.appName(\"SparkSQL\").getOrCreate()"
      ],
      "metadata": {
        "id": "Bs33ViYqZqx1"
      },
      "execution_count": 3,
      "outputs": []
    },
    {
      "cell_type": "code",
      "source": [
        "def mapper(line):\n",
        "    fields = line.split(',')\n",
        "    return Row(ID=int(fields[0]), name=str(fields[1].encode(\"utf-8\")), \\\n",
        "               age=int(fields[2]), numFriends=int(fields[3]))"
      ],
      "metadata": {
        "id": "9SgdIqOWZwpd"
      },
      "execution_count": 4,
      "outputs": []
    },
    {
      "cell_type": "code",
      "source": [
        "lines = spark.sparkContext.textFile(\"/content/drive/MyDrive/SparkCourse/fakefriends.csv\")\n",
        "people = lines.map(mapper)"
      ],
      "metadata": {
        "id": "dIXf0gjMZ1BZ"
      },
      "execution_count": 6,
      "outputs": []
    },
    {
      "cell_type": "code",
      "source": [
        "# Infer the schema, and register the DataFrame as a table.\n",
        "schemaPeople = spark.createDataFrame(people).cache()\n",
        "schemaPeople.createOrReplaceTempView(\"people\")"
      ],
      "metadata": {
        "id": "OEXBJmcYZ-h-"
      },
      "execution_count": 7,
      "outputs": []
    },
    {
      "cell_type": "code",
      "source": [
        "# SQL can be run over DataFrames that have been registered as a table.\n",
        "teenagers = spark.sql(\"SELECT * FROM people WHERE age >= 13 AND age <= 19\")"
      ],
      "metadata": {
        "id": "tuCvzeJAaDqV"
      },
      "execution_count": 8,
      "outputs": []
    },
    {
      "cell_type": "code",
      "source": [
        "# The results of SQL queries are RDDs and support all the normal RDD operations.\n",
        "for teen in teenagers.collect():\n",
        "  print(teen)"
      ],
      "metadata": {
        "colab": {
          "base_uri": "https://localhost:8080/"
        },
        "id": "WRb-fLRLaH3t",
        "outputId": "ba75796f-9aa9-4041-e5d6-c44cc28a7554"
      },
      "execution_count": 9,
      "outputs": [
        {
          "output_type": "stream",
          "name": "stdout",
          "text": [
            "Row(ID=21, name=\"b'Miles'\", age=19, numFriends=268)\n",
            "Row(ID=52, name=\"b'Beverly'\", age=19, numFriends=269)\n",
            "Row(ID=54, name=\"b'Brunt'\", age=19, numFriends=5)\n",
            "Row(ID=106, name=\"b'Beverly'\", age=18, numFriends=499)\n",
            "Row(ID=115, name=\"b'Dukat'\", age=18, numFriends=397)\n",
            "Row(ID=133, name=\"b'Quark'\", age=19, numFriends=265)\n",
            "Row(ID=136, name=\"b'Will'\", age=19, numFriends=335)\n",
            "Row(ID=225, name=\"b'Elim'\", age=19, numFriends=106)\n",
            "Row(ID=304, name=\"b'Will'\", age=19, numFriends=404)\n",
            "Row(ID=341, name=\"b'Data'\", age=18, numFriends=326)\n",
            "Row(ID=366, name=\"b'Keiko'\", age=19, numFriends=119)\n",
            "Row(ID=373, name=\"b'Quark'\", age=19, numFriends=272)\n",
            "Row(ID=377, name=\"b'Beverly'\", age=18, numFriends=418)\n",
            "Row(ID=404, name=\"b'Kasidy'\", age=18, numFriends=24)\n",
            "Row(ID=409, name=\"b'Nog'\", age=19, numFriends=267)\n",
            "Row(ID=439, name=\"b'Data'\", age=18, numFriends=417)\n",
            "Row(ID=444, name=\"b'Keiko'\", age=18, numFriends=472)\n",
            "Row(ID=492, name=\"b'Dukat'\", age=19, numFriends=36)\n",
            "Row(ID=494, name=\"b'Kasidy'\", age=18, numFriends=194)\n"
          ]
        }
      ]
    },
    {
      "cell_type": "code",
      "source": [
        "# We can also use functions instead of SQL queries:\n",
        "schemaPeople.groupBy(\"age\").count().orderBy(\"age\").show()\n",
        "\n",
        "spark.stop()"
      ],
      "metadata": {
        "colab": {
          "base_uri": "https://localhost:8080/"
        },
        "id": "HmTj1-qvaOLd",
        "outputId": "dca4f80f-149d-4483-c789-b7f7ed20a48e"
      },
      "execution_count": 10,
      "outputs": [
        {
          "output_type": "stream",
          "name": "stdout",
          "text": [
            "+---+-----+\n",
            "|age|count|\n",
            "+---+-----+\n",
            "| 18|    8|\n",
            "| 19|   11|\n",
            "| 20|    5|\n",
            "| 21|    8|\n",
            "| 22|    7|\n",
            "| 23|   10|\n",
            "| 24|    5|\n",
            "| 25|   11|\n",
            "| 26|   17|\n",
            "| 27|    8|\n",
            "| 28|   10|\n",
            "| 29|   12|\n",
            "| 30|   11|\n",
            "| 31|    8|\n",
            "| 32|   11|\n",
            "| 33|   12|\n",
            "| 34|    6|\n",
            "| 35|    8|\n",
            "| 36|   10|\n",
            "| 37|    9|\n",
            "+---+-----+\n",
            "only showing top 20 rows\n",
            "\n"
          ]
        }
      ]
    }
  ]
}