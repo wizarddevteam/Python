{
  "nbformat": 4,
  "nbformat_minor": 0,
  "metadata": {
    "colab": {
      "name": "13_Popular_movie.ipynb",
      "provenance": []
    },
    "kernelspec": {
      "name": "python3",
      "display_name": "Python 3"
    },
    "language_info": {
      "name": "python"
    }
  },
  "cells": [
    {
      "cell_type": "code",
      "execution_count": 2,
      "metadata": {
        "colab": {
          "base_uri": "https://localhost:8080/"
        },
        "id": "6ulbdk1YpaB5",
        "outputId": "8db351d6-ed65-4d66-bc50-24bd160dbebf"
      },
      "outputs": [
        {
          "output_type": "stream",
          "name": "stdout",
          "text": [
            "Collecting pyspark\n",
            "  Downloading pyspark-3.2.1.tar.gz (281.4 MB)\n",
            "\u001b[K     |████████████████████████████████| 281.4 MB 36 kB/s \n",
            "\u001b[?25hCollecting py4j==0.10.9.3\n",
            "  Downloading py4j-0.10.9.3-py2.py3-none-any.whl (198 kB)\n",
            "\u001b[K     |████████████████████████████████| 198 kB 61.7 MB/s \n",
            "\u001b[?25hBuilding wheels for collected packages: pyspark\n",
            "  Building wheel for pyspark (setup.py) ... \u001b[?25l\u001b[?25hdone\n",
            "  Created wheel for pyspark: filename=pyspark-3.2.1-py2.py3-none-any.whl size=281853642 sha256=b8584a980c91d4cd64ce2bcbf936f2ac19680c777b0a60e53312f2d3801248f2\n",
            "  Stored in directory: /root/.cache/pip/wheels/9f/f5/07/7cd8017084dce4e93e84e92efd1e1d5334db05f2e83bcef74f\n",
            "Successfully built pyspark\n",
            "Installing collected packages: py4j, pyspark\n",
            "Successfully installed py4j-0.10.9.3 pyspark-3.2.1\n"
          ]
        }
      ],
      "source": [
        "pip install pyspark"
      ]
    },
    {
      "cell_type": "code",
      "source": [
        "from pyspark.sql import SparkSession\n",
        "from pyspark.sql import functions as func\n",
        "from pyspark.sql.types import StructType, StructField, IntegerType, LongType"
      ],
      "metadata": {
        "id": "VFIrz1EgqDxb"
      },
      "execution_count": 3,
      "outputs": []
    },
    {
      "cell_type": "code",
      "source": [
        "spark = SparkSession.builder.appName(\"PopularMovies\").getOrCreate()"
      ],
      "metadata": {
        "id": "9boADkjoqLOm"
      },
      "execution_count": 4,
      "outputs": []
    },
    {
      "cell_type": "code",
      "source": [
        "# Create schema when reading u.data\n",
        "schema = StructType([ \\\n",
        "                     StructField(\"userID\", IntegerType(), True), \\\n",
        "                     StructField(\"movieID\", IntegerType(), True), \\\n",
        "                     StructField(\"rating\", IntegerType(), True), \\\n",
        "                     StructField(\"timestamp\", LongType(), True)])"
      ],
      "metadata": {
        "id": "t5gJn2faqQ30"
      },
      "execution_count": 5,
      "outputs": []
    },
    {
      "cell_type": "code",
      "source": [
        "# Load up movie data as dataframe\n",
        "moviesDF = spark.read.option(\"sep\", \"\\t\").schema(schema).csv(\"/content/drive/MyDrive/SparkCourse/ml-100k/u.data\")"
      ],
      "metadata": {
        "id": "S2qjDfqxqUU5"
      },
      "execution_count": 6,
      "outputs": []
    },
    {
      "cell_type": "code",
      "source": [
        "# Some SQL-style magic to sort all movies by popularity in one line!\n",
        "topMovieIDs = moviesDF.groupBy(\"movieID\").count().orderBy(func.desc(\"count\"))"
      ],
      "metadata": {
        "id": "5Pl1XJwnqe69"
      },
      "execution_count": 7,
      "outputs": []
    },
    {
      "cell_type": "code",
      "source": [
        "# Grab the top 10\n",
        "topMovieIDs.show(10)\n",
        "\n",
        "# Stop the session\n",
        "spark.stop()"
      ],
      "metadata": {
        "colab": {
          "base_uri": "https://localhost:8080/"
        },
        "id": "NUKo4MfiqjjM",
        "outputId": "fff86447-00b2-4474-c131-173f5247c143"
      },
      "execution_count": 8,
      "outputs": [
        {
          "output_type": "stream",
          "name": "stdout",
          "text": [
            "+-------+-----+\n",
            "|movieID|count|\n",
            "+-------+-----+\n",
            "|     50|  583|\n",
            "|    258|  509|\n",
            "|    100|  508|\n",
            "|    181|  507|\n",
            "|    294|  485|\n",
            "|    286|  481|\n",
            "|    288|  478|\n",
            "|      1|  452|\n",
            "|    300|  431|\n",
            "|    121|  429|\n",
            "+-------+-----+\n",
            "only showing top 10 rows\n",
            "\n"
          ]
        }
      ]
    }
  ]
}