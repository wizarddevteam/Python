{
  "nbformat": 4,
  "nbformat_minor": 0,
  "metadata": {
    "colab": {
      "name": "14_Popular_Movies_Dataframe.ipynb",
      "provenance": []
    },
    "kernelspec": {
      "name": "python3",
      "display_name": "Python 3"
    },
    "language_info": {
      "name": "python"
    }
  },
  "cells": [
    {
      "cell_type": "code",
      "execution_count": 1,
      "metadata": {
        "colab": {
          "base_uri": "https://localhost:8080/"
        },
        "id": "_TbBSnMHtuAk",
        "outputId": "f8f65d0d-6fa5-4996-8eaa-1f1db60f8125"
      },
      "outputs": [
        {
          "output_type": "stream",
          "name": "stdout",
          "text": [
            "Collecting pyspark\n",
            "  Downloading pyspark-3.2.1.tar.gz (281.4 MB)\n",
            "\u001b[K     |████████████████████████████████| 281.4 MB 40 kB/s \n",
            "\u001b[?25hCollecting py4j==0.10.9.3\n",
            "  Downloading py4j-0.10.9.3-py2.py3-none-any.whl (198 kB)\n",
            "\u001b[K     |████████████████████████████████| 198 kB 76.8 MB/s \n",
            "\u001b[?25hBuilding wheels for collected packages: pyspark\n",
            "  Building wheel for pyspark (setup.py) ... \u001b[?25l\u001b[?25hdone\n",
            "  Created wheel for pyspark: filename=pyspark-3.2.1-py2.py3-none-any.whl size=281853642 sha256=025398714f24f425700acb406c4ca206f1bb264a1a2a35559e2c75dc2b8b4461\n",
            "  Stored in directory: /root/.cache/pip/wheels/9f/f5/07/7cd8017084dce4e93e84e92efd1e1d5334db05f2e83bcef74f\n",
            "Successfully built pyspark\n",
            "Installing collected packages: py4j, pyspark\n",
            "Successfully installed py4j-0.10.9.3 pyspark-3.2.1\n"
          ]
        }
      ],
      "source": [
        "pip install pyspark"
      ]
    },
    {
      "cell_type": "code",
      "source": [
        "from pyspark.sql import SparkSession\n",
        "from pyspark.sql import functions as func\n",
        "from pyspark.sql.types import StructType, StructField, IntegerType, LongType\n",
        "import codecs"
      ],
      "metadata": {
        "id": "pltRNVQRt-6_"
      },
      "execution_count": 11,
      "outputs": []
    },
    {
      "cell_type": "code",
      "source": [
        "def loadMovieNames():\n",
        "    movieNames = {}\n",
        "    # CHANGE THIS TO THE PATH TO YOUR u.ITEM FILE:\n",
        "    with codecs.open(\"/content/drive/MyDrive/SparkCourse/ml-100k/u.item\", \"r\", encoding='ISO-8859-1', errors='ignore') as f:\n",
        "        for line in f:\n",
        "            fields = line.split('|')\n",
        "            movieNames[int(fields[0])] = fields[1]\n",
        "    return movieNames"
      ],
      "metadata": {
        "id": "jvQG3C8zuCfC"
      },
      "execution_count": 12,
      "outputs": []
    },
    {
      "cell_type": "code",
      "source": [
        "spark = SparkSession.builder.appName(\"PopularMovies\").getOrCreate()\n",
        "\n",
        "nameDict = spark.sparkContext.broadcast(loadMovieNames())"
      ],
      "metadata": {
        "id": "GdwuspEduXt7"
      },
      "execution_count": 13,
      "outputs": []
    },
    {
      "cell_type": "code",
      "source": [
        "# Create schema when reading u.data\n",
        "schema = StructType([ \\\n",
        "                     StructField(\"userID\", IntegerType(), True), \\\n",
        "                     StructField(\"movieID\", IntegerType(), True), \\\n",
        "                     StructField(\"rating\", IntegerType(), True), \\\n",
        "                     StructField(\"timestamp\", LongType(), True)])"
      ],
      "metadata": {
        "id": "3Mq3sONGudmy"
      },
      "execution_count": 14,
      "outputs": []
    },
    {
      "cell_type": "code",
      "source": [
        "# Load up movie data as dataframe\n",
        "moviesDF = spark.read.option(\"sep\", \"\\t\").schema(schema).csv(\"/content/drive/MyDrive/SparkCourse/ml-100k/u.data\")\n",
        "\n",
        "movieCounts = moviesDF.groupBy(\"movieID\").count()"
      ],
      "metadata": {
        "id": "O80uOXPBujdN"
      },
      "execution_count": 15,
      "outputs": []
    },
    {
      "cell_type": "code",
      "source": [
        "# Create a user-defined function to look up movie names from our broadcasted dictionary\n",
        "def lookupName(movieID):\n",
        "    return nameDict.value[movieID]"
      ],
      "metadata": {
        "id": "CAhJkwM7urvB"
      },
      "execution_count": 16,
      "outputs": []
    },
    {
      "cell_type": "code",
      "source": [
        "lookupNameUDF = func.udf(lookupName)\n",
        "\n",
        "# Add a movieTitle column using our new udf\n",
        "moviesWithNames = movieCounts.withColumn(\"movieTitle\", lookupNameUDF(func.col(\"movieID\")))"
      ],
      "metadata": {
        "id": "QU-ydYpIuwCH"
      },
      "execution_count": 17,
      "outputs": []
    },
    {
      "cell_type": "code",
      "source": [
        "# Sort the results\n",
        "sortedMoviesWithNames = moviesWithNames.orderBy(func.desc(\"count\"))\n",
        "\n",
        "# Grab the top 10\n",
        "sortedMoviesWithNames.show(15, False)\n",
        "\n",
        "# Stop the session\n",
        "spark.stop()"
      ],
      "metadata": {
        "colab": {
          "base_uri": "https://localhost:8080/"
        },
        "id": "1iL7B7QsuziZ",
        "outputId": "05e73e4b-3bb9-4d7e-e2a5-0af8bee130ba"
      },
      "execution_count": 18,
      "outputs": [
        {
          "output_type": "stream",
          "name": "stdout",
          "text": [
            "+-------+-----+--------------------------------+\n",
            "|movieID|count|movieTitle                      |\n",
            "+-------+-----+--------------------------------+\n",
            "|50     |583  |Star Wars (1977)                |\n",
            "|258    |509  |Contact (1997)                  |\n",
            "|100    |508  |Fargo (1996)                    |\n",
            "|181    |507  |Return of the Jedi (1983)       |\n",
            "|294    |485  |Liar Liar (1997)                |\n",
            "|286    |481  |English Patient, The (1996)     |\n",
            "|288    |478  |Scream (1996)                   |\n",
            "|1      |452  |Toy Story (1995)                |\n",
            "|300    |431  |Air Force One (1997)            |\n",
            "|121    |429  |Independence Day (ID4) (1996)   |\n",
            "|174    |420  |Raiders of the Lost Ark (1981)  |\n",
            "|127    |413  |Godfather, The (1972)           |\n",
            "|56     |394  |Pulp Fiction (1994)             |\n",
            "|7      |392  |Twelve Monkeys (1995)           |\n",
            "|98     |390  |Silence of the Lambs, The (1991)|\n",
            "+-------+-----+--------------------------------+\n",
            "only showing top 15 rows\n",
            "\n"
          ]
        }
      ]
    }
  ]
}