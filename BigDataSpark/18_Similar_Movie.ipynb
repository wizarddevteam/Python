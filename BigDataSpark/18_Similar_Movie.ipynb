{
  "nbformat": 4,
  "nbformat_minor": 0,
  "metadata": {
    "colab": {
      "name": "18_Similar_Movie.ipynb",
      "provenance": []
    },
    "kernelspec": {
      "name": "python3",
      "display_name": "Python 3"
    },
    "language_info": {
      "name": "python"
    }
  },
  "cells": [
    {
      "cell_type": "code",
      "execution_count": 1,
      "metadata": {
        "colab": {
          "base_uri": "https://localhost:8080/"
        },
        "id": "HsigY2GWiXsX",
        "outputId": "55bf2156-27ed-4642-8018-888019dc1584"
      },
      "outputs": [
        {
          "output_type": "stream",
          "name": "stdout",
          "text": [
            "Collecting pyspark\n",
            "  Downloading pyspark-3.2.1.tar.gz (281.4 MB)\n",
            "\u001b[K     |████████████████████████████████| 281.4 MB 32 kB/s \n",
            "\u001b[?25hCollecting py4j==0.10.9.3\n",
            "  Downloading py4j-0.10.9.3-py2.py3-none-any.whl (198 kB)\n",
            "\u001b[K     |████████████████████████████████| 198 kB 34.8 MB/s \n",
            "\u001b[?25hBuilding wheels for collected packages: pyspark\n",
            "  Building wheel for pyspark (setup.py) ... \u001b[?25l\u001b[?25hdone\n",
            "  Created wheel for pyspark: filename=pyspark-3.2.1-py2.py3-none-any.whl size=281853642 sha256=670391f3d7672ed26522fa77260c0aaf564607c7b824e019731202f28057c6a5\n",
            "  Stored in directory: /root/.cache/pip/wheels/9f/f5/07/7cd8017084dce4e93e84e92efd1e1d5334db05f2e83bcef74f\n",
            "Successfully built pyspark\n",
            "Installing collected packages: py4j, pyspark\n",
            "Successfully installed py4j-0.10.9.3 pyspark-3.2.1\n"
          ]
        }
      ],
      "source": [
        "pip install pyspark"
      ]
    },
    {
      "cell_type": "code",
      "source": [
        "from pyspark.sql import SparkSession\n",
        "from pyspark.sql import functions as func\n",
        "from pyspark.sql.types import StructType, StructField, StringType, IntegerType, LongType\n",
        "import sys"
      ],
      "metadata": {
        "id": "aRWzMmgFi0O9"
      },
      "execution_count": 2,
      "outputs": []
    },
    {
      "cell_type": "code",
      "source": [
        "def computeCosineSimilarity(spark, data):\n",
        "    # Compute xx, xy and yy columns\n",
        "    pairScores = data \\\n",
        "      .withColumn(\"xx\", func.col(\"rating1\") * func.col(\"rating1\")) \\\n",
        "      .withColumn(\"yy\", func.col(\"rating2\") * func.col(\"rating2\")) \\\n",
        "      .withColumn(\"xy\", func.col(\"rating1\") * func.col(\"rating2\")) \n",
        "\n",
        "    # Compute numerator, denominator and numPairs columns\n",
        "    calculateSimilarity = pairScores \\\n",
        "      .groupBy(\"movie1\", \"movie2\") \\\n",
        "      .agg( \\\n",
        "        func.sum(func.col(\"xy\")).alias(\"numerator\"), \\\n",
        "        (func.sqrt(func.sum(func.col(\"xx\"))) * func.sqrt(func.sum(func.col(\"yy\")))).alias(\"denominator\"), \\\n",
        "        func.count(func.col(\"xy\")).alias(\"numPairs\")\n",
        "      )\n",
        "\n",
        "    # Calculate score and select only needed columns (movie1, movie2, score, numPairs)\n",
        "    result = calculateSimilarity \\\n",
        "      .withColumn(\"score\", \\\n",
        "        func.when(func.col(\"denominator\") != 0, func.col(\"numerator\") / func.col(\"denominator\")) \\\n",
        "          .otherwise(0) \\\n",
        "      ).select(\"movie1\", \"movie2\", \"score\", \"numPairs\")\n",
        "\n",
        "    return result"
      ],
      "metadata": {
        "id": "rRtYN8Uki2kf"
      },
      "execution_count": 3,
      "outputs": []
    },
    {
      "cell_type": "code",
      "source": [
        "# Get movie name by given movie id \n",
        "def getMovieName(movieNames, movieId):\n",
        "    result = movieNames.filter(func.col(\"movieID\") == movieId) \\\n",
        "        .select(\"movieTitle\").collect()[0]\n",
        "\n",
        "    return result[0]"
      ],
      "metadata": {
        "id": "KJQieUuNi7A8"
      },
      "execution_count": 4,
      "outputs": []
    },
    {
      "cell_type": "code",
      "source": [
        "spark = SparkSession.builder.appName(\"MovieSimilarities\").master(\"local[*]\").getOrCreate()\n",
        "\n",
        "movieNamesSchema = StructType([ \\\n",
        "                               StructField(\"movieID\", IntegerType(), True), \\\n",
        "                               StructField(\"movieTitle\", StringType(), True) \\\n",
        "                               ])\n",
        "    \n",
        "moviesSchema = StructType([ \\\n",
        "                     StructField(\"userID\", IntegerType(), True), \\\n",
        "                     StructField(\"movieID\", IntegerType(), True), \\\n",
        "                     StructField(\"rating\", IntegerType(), True), \\\n",
        "                     StructField(\"timestamp\", LongType(), True)])"
      ],
      "metadata": {
        "id": "LRchxyEOi-xA"
      },
      "execution_count": 5,
      "outputs": []
    },
    {
      "cell_type": "code",
      "source": [
        "# Create a broadcast dataset of movieID and movieTitle.\n",
        "# Apply ISO-885901 charset\n",
        "movieNames = spark.read \\\n",
        "      .option(\"sep\", \"|\") \\\n",
        "      .option(\"charset\", \"ISO-8859-1\") \\\n",
        "      .schema(movieNamesSchema) \\\n",
        "      .csv(\"/content/drive/MyDrive/SparkCourse/ml-100k/u.item\")\n",
        "\n",
        "# Load up movie data as dataset\n",
        "movies = spark.read \\\n",
        "      .option(\"sep\", \"\\t\") \\\n",
        "      .schema(moviesSchema) \\\n",
        "      .csv(\"/content/drive/MyDrive/SparkCourse/ml-100k/u.data\")"
      ],
      "metadata": {
        "id": "3RaHQYWpjHAm"
      },
      "execution_count": 6,
      "outputs": []
    },
    {
      "cell_type": "code",
      "source": [
        "ratings = movies.select(\"userId\", \"movieId\", \"rating\")\n",
        "\n",
        "# Emit every movie rated together by the same user.\n",
        "# Self-join to find every combination.\n",
        "# Select movie pairs and rating pairs\n",
        "moviePairs = ratings.alias(\"ratings1\") \\\n",
        "      .join(ratings.alias(\"ratings2\"), (func.col(\"ratings1.userId\") == func.col(\"ratings2.userId\")) \\\n",
        "            & (func.col(\"ratings1.movieId\") < func.col(\"ratings2.movieId\"))) \\\n",
        "      .select(func.col(\"ratings1.movieId\").alias(\"movie1\"), \\\n",
        "        func.col(\"ratings2.movieId\").alias(\"movie2\"), \\\n",
        "        func.col(\"ratings1.rating\").alias(\"rating1\"), \\\n",
        "        func.col(\"ratings2.rating\").alias(\"rating2\"))"
      ],
      "metadata": {
        "id": "9NfnBtr1jUGz"
      },
      "execution_count": 7,
      "outputs": []
    },
    {
      "cell_type": "code",
      "source": [
        "moviePairSimilarities = computeCosineSimilarity(spark, moviePairs).cache()\n",
        "\n",
        "if (len(sys.argv) > 1):\n",
        "    # print(\"------------------\")\n",
        "    # print(sys.argv)\n",
        "    # print(\"------------------\")\n",
        "    scoreThreshold = 0.97\n",
        "    coOccurrenceThreshold = 50.0\n",
        "\n",
        "    print(sys.argv[1])\n",
        "    movieID = float(50)\n",
        "\n",
        "    # Filter for movies with this sim that are \"good\" as defined by\n",
        "    # our quality thresholds above\n",
        "    filteredResults = moviePairSimilarities.filter( \\\n",
        "        ((func.col(\"movie1\") == movieID) | (func.col(\"movie2\") == movieID)) & \\\n",
        "          (func.col(\"score\") > scoreThreshold) & (func.col(\"numPairs\") > coOccurrenceThreshold))\n",
        "\n",
        "    # Sort by quality score.\n",
        "    results = filteredResults.sort(func.col(\"score\").desc()).take(10)\n",
        "    \n",
        "    print (\"Top 10 similar movies for \" + getMovieName(movieNames, movieID))\n",
        "    \n",
        "    for result in results:\n",
        "        # Display the similarity result that isn't the movie we're looking at\n",
        "        similarMovieID = result.movie1\n",
        "        if (similarMovieID == movieID):\n",
        "          similarMovieID = result.movie2\n",
        "        \n",
        "        print(getMovieName(movieNames, similarMovieID) + \"\\tscore: \" \\\n",
        "              + str(result.score) + \"\\tstrength: \" + str(result.numPairs))\n",
        "        \n"
      ],
      "metadata": {
        "colab": {
          "base_uri": "https://localhost:8080/"
        },
        "id": "avB6W1oDjawI",
        "outputId": "6b3488d4-1c9b-4aa2-c89a-cd0508154881"
      },
      "execution_count": 19,
      "outputs": [
        {
          "output_type": "stream",
          "name": "stdout",
          "text": [
            "-f\n",
            "Top 10 similar movies for Star Wars (1977)\n",
            "Empire Strikes Back, The (1980)\tscore: 0.9895522078385338\tstrength: 345\n",
            "Return of the Jedi (1983)\tscore: 0.9857230861253026\tstrength: 480\n",
            "Raiders of the Lost Ark (1981)\tscore: 0.981760098872619\tstrength: 380\n",
            "20,000 Leagues Under the Sea (1954)\tscore: 0.9789385605497993\tstrength: 68\n",
            "12 Angry Men (1957)\tscore: 0.9776576120448436\tstrength: 109\n",
            "Close Shave, A (1995)\tscore: 0.9775948291054827\tstrength: 92\n",
            "African Queen, The (1951)\tscore: 0.9764692222674887\tstrength: 138\n",
            "Sting, The (1973)\tscore: 0.9751512937740359\tstrength: 204\n",
            "Wrong Trousers, The (1993)\tscore: 0.9748681355460885\tstrength: 103\n",
            "Wallace & Gromit: The Best of Aardman Animation (1996)\tscore: 0.9741816128302572\tstrength: 58\n"
          ]
        }
      ]
    }
  ]
}