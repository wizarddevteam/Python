{
  "nbformat": 4,
  "nbformat_minor": 0,
  "metadata": {
    "colab": {
      "name": "12_CustomerTotalSpent_SparkSQL.ipynb",
      "provenance": []
    },
    "kernelspec": {
      "name": "python3",
      "display_name": "Python 3"
    },
    "language_info": {
      "name": "python"
    }
  },
  "cells": [
    {
      "cell_type": "code",
      "execution_count": 1,
      "metadata": {
        "colab": {
          "base_uri": "https://localhost:8080/"
        },
        "id": "X57ZRGE7vIGr",
        "outputId": "07591030-126f-4090-8a15-ea9af5c9c590"
      },
      "outputs": [
        {
          "output_type": "stream",
          "name": "stdout",
          "text": [
            "Collecting pyspark\n",
            "  Downloading pyspark-3.2.1.tar.gz (281.4 MB)\n",
            "\u001b[K     |████████████████████████████████| 281.4 MB 38 kB/s \n",
            "\u001b[?25hCollecting py4j==0.10.9.3\n",
            "  Downloading py4j-0.10.9.3-py2.py3-none-any.whl (198 kB)\n",
            "\u001b[K     |████████████████████████████████| 198 kB 49.7 MB/s \n",
            "\u001b[?25hBuilding wheels for collected packages: pyspark\n",
            "  Building wheel for pyspark (setup.py) ... \u001b[?25l\u001b[?25hdone\n",
            "  Created wheel for pyspark: filename=pyspark-3.2.1-py2.py3-none-any.whl size=281853642 sha256=9f34f8d174c56513e780d8624136590d795a78135b72e0a5927b478c13e2fef7\n",
            "  Stored in directory: /root/.cache/pip/wheels/9f/f5/07/7cd8017084dce4e93e84e92efd1e1d5334db05f2e83bcef74f\n",
            "Successfully built pyspark\n",
            "Installing collected packages: py4j, pyspark\n",
            "Successfully installed py4j-0.10.9.3 pyspark-3.2.1\n"
          ]
        }
      ],
      "source": [
        "pip install pyspark"
      ]
    },
    {
      "cell_type": "code",
      "source": [
        "from pyspark.sql import SparkSession\n",
        "from pyspark.sql import functions as func\n",
        "from pyspark.sql.types import StructType, StructField, StringType, IntegerType, FloatType"
      ],
      "metadata": {
        "id": "QDohiPI-vgK7"
      },
      "execution_count": 8,
      "outputs": []
    },
    {
      "cell_type": "code",
      "source": [
        "spark = SparkSession.builder.appName(\"CustomerSpent\").getOrCreate()"
      ],
      "metadata": {
        "id": "4jQShhlYvnva"
      },
      "execution_count": 9,
      "outputs": []
    },
    {
      "cell_type": "code",
      "source": [
        "schema = StructType([ \\\n",
        "                     StructField(\"cust_id\", IntegerType(), True), \\\n",
        "                     StructField(\"prod_id\", IntegerType(), True), \\\n",
        "                     StructField(\"amount_spent\", FloatType(), True)])"
      ],
      "metadata": {
        "id": "h5psnBB9vvts"
      },
      "execution_count": 10,
      "outputs": []
    },
    {
      "cell_type": "code",
      "source": [
        "# // Read the file as dataframe\n",
        "df = spark.read.schema(schema).csv(\"/content/drive/MyDrive/SparkCourse/customer-orders_2.csv\")\n",
        "df.printSchema()"
      ],
      "metadata": {
        "colab": {
          "base_uri": "https://localhost:8080/"
        },
        "id": "jF1S4uwSwHil",
        "outputId": "98a3e18f-ecc7-4003-9fec-aa7a46d22a98"
      },
      "execution_count": 11,
      "outputs": [
        {
          "output_type": "stream",
          "name": "stdout",
          "text": [
            "root\n",
            " |-- cust_id: integer (nullable = true)\n",
            " |-- prod_id: integer (nullable = true)\n",
            " |-- amount_spent: float (nullable = true)\n",
            "\n"
          ]
        }
      ]
    },
    {
      "cell_type": "code",
      "source": [
        "totalByCustomer = df.groupBy(\"cust_id\").agg(func.round(func.sum(\"amount_spent\"),2).alias(\"total_spent\"))"
      ],
      "metadata": {
        "id": "ZjDbDtH1wXSr"
      },
      "execution_count": 14,
      "outputs": []
    },
    {
      "cell_type": "code",
      "source": [
        "totalByCustomerSorted = totalByCustomer.sort(\"total_spent\")"
      ],
      "metadata": {
        "id": "rY2NbxjM0LTr"
      },
      "execution_count": 15,
      "outputs": []
    },
    {
      "cell_type": "code",
      "source": [
        "totalByCustomerSorted.show(totalByCustomerSorted.count())"
      ],
      "metadata": {
        "colab": {
          "base_uri": "https://localhost:8080/"
        },
        "id": "5bGbrUuU0P21",
        "outputId": "c96239b0-66f3-4a50-f73f-d5ddb5ccb134"
      },
      "execution_count": 16,
      "outputs": [
        {
          "output_type": "stream",
          "name": "stdout",
          "text": [
            "+-------+-----------+\n",
            "|cust_id|total_spent|\n",
            "+-------+-----------+\n",
            "|     45|    3309.38|\n",
            "|     79|    3790.57|\n",
            "|     96|    3924.23|\n",
            "|     23|    4042.65|\n",
            "|     99|    4172.29|\n",
            "|     75|     4178.5|\n",
            "|     36|    4278.05|\n",
            "|     98|    4297.26|\n",
            "|     47|     4316.3|\n",
            "|     77|    4327.73|\n",
            "|     13|    4367.62|\n",
            "|     48|    4384.33|\n",
            "|     49|     4394.6|\n",
            "|     94|    4475.57|\n",
            "|     67|    4505.79|\n",
            "|     50|    4517.27|\n",
            "|     78|    4524.51|\n",
            "|      5|    4561.07|\n",
            "|     57|     4628.4|\n",
            "|     83|     4635.8|\n",
            "|     91|    4642.26|\n",
            "|     74|    4647.13|\n",
            "|     84|    4652.94|\n",
            "|      3|    4659.63|\n",
            "|     12|    4664.59|\n",
            "|     66|    4681.92|\n",
            "|     56|    4701.02|\n",
            "|     21|    4707.41|\n",
            "|     80|    4727.86|\n",
            "|     14|    4735.03|\n",
            "|     37|     4735.2|\n",
            "|      7|    4755.07|\n",
            "|     44|    4756.89|\n",
            "|     31|    4765.05|\n",
            "|     82|    4812.49|\n",
            "|      4|    4815.05|\n",
            "|     10|     4819.7|\n",
            "|     88|    4830.55|\n",
            "|     20|    4836.86|\n",
            "|     89|    4851.48|\n",
            "|     95|    4876.84|\n",
            "|     38|    4898.46|\n",
            "|     76|    4904.21|\n",
            "|     86|    4908.81|\n",
            "|     27|    4915.89|\n",
            "|     18|    4921.27|\n",
            "|     53|     4945.3|\n",
            "|      1|     4958.6|\n",
            "|     51|    4975.22|\n",
            "|     16|    4979.06|\n",
            "|     30|    4990.72|\n",
            "|     28|    5000.71|\n",
            "|     22|    5019.45|\n",
            "|     29|    5032.53|\n",
            "|     17|    5032.68|\n",
            "|     60|    5040.71|\n",
            "|     25|    5057.61|\n",
            "|     19|    5059.43|\n",
            "|     81|    5112.71|\n",
            "|     69|    5123.01|\n",
            "|     65|    5140.35|\n",
            "|     11|    5152.29|\n",
            "|     35|    5155.42|\n",
            "|     40|    5186.43|\n",
            "|     87|     5206.4|\n",
            "|     52|    5245.06|\n",
            "|     26|     5250.4|\n",
            "|     62|    5253.32|\n",
            "|     33|    5254.66|\n",
            "|     24|    5259.92|\n",
            "|     93|    5265.75|\n",
            "|     64|    5288.69|\n",
            "|     90|    5290.41|\n",
            "|     55|    5298.09|\n",
            "|      9|    5322.65|\n",
            "|     34|     5330.8|\n",
            "|     72|    5337.44|\n",
            "|     70|    5368.25|\n",
            "|     43|    5368.83|\n",
            "|     92|    5379.28|\n",
            "|      6|    5397.88|\n",
            "|     15|    5413.51|\n",
            "|     63|    5415.15|\n",
            "|     58|    5437.73|\n",
            "|     32|    5496.05|\n",
            "|     61|    5497.48|\n",
            "|     85|    5503.43|\n",
            "|      8|    5517.24|\n",
            "|      0|    5524.95|\n",
            "|     41|    5637.62|\n",
            "|     59|    5642.89|\n",
            "|     42|    5696.84|\n",
            "|     46|    5963.11|\n",
            "|     97|    5977.19|\n",
            "|      2|    5994.59|\n",
            "|     71|    5995.66|\n",
            "|     54|    6065.39|\n",
            "|     39|    6193.11|\n",
            "|     73|     6206.2|\n",
            "|     68|    6375.45|\n",
            "+-------+-----------+\n",
            "\n"
          ]
        }
      ]
    },
    {
      "cell_type": "code",
      "source": [
        "spark.stop()"
      ],
      "metadata": {
        "id": "YiXMby93yZ4L"
      },
      "execution_count": 17,
      "outputs": []
    }
  ]
}