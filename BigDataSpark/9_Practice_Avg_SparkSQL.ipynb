{
  "nbformat": 4,
  "nbformat_minor": 0,
  "metadata": {
    "colab": {
      "name": "9_Practice_Avg_SparkSQL.ipynb",
      "provenance": []
    },
    "kernelspec": {
      "name": "python3",
      "display_name": "Python 3"
    },
    "language_info": {
      "name": "python"
    }
  },
  "cells": [
    {
      "cell_type": "code",
      "execution_count": 1,
      "metadata": {
        "colab": {
          "base_uri": "https://localhost:8080/"
        },
        "id": "sEDmNY9whPIP",
        "outputId": "51689a64-67f9-465b-dc71-6406d608ef05"
      },
      "outputs": [
        {
          "output_type": "stream",
          "name": "stdout",
          "text": [
            "Collecting pyspark\n",
            "  Downloading pyspark-3.2.1.tar.gz (281.4 MB)\n",
            "\u001b[K     |████████████████████████████████| 281.4 MB 42 kB/s \n",
            "\u001b[?25hCollecting py4j==0.10.9.3\n",
            "  Downloading py4j-0.10.9.3-py2.py3-none-any.whl (198 kB)\n",
            "\u001b[K     |████████████████████████████████| 198 kB 67.8 MB/s \n",
            "\u001b[?25hBuilding wheels for collected packages: pyspark\n",
            "  Building wheel for pyspark (setup.py) ... \u001b[?25l\u001b[?25hdone\n",
            "  Created wheel for pyspark: filename=pyspark-3.2.1-py2.py3-none-any.whl size=281853642 sha256=c053746ba9aaebc87a1a296b0b00a0b26a24510db403d70c06b99fb7db7bc3c6\n",
            "  Stored in directory: /root/.cache/pip/wheels/9f/f5/07/7cd8017084dce4e93e84e92efd1e1d5334db05f2e83bcef74f\n",
            "Successfully built pyspark\n",
            "Installing collected packages: py4j, pyspark\n",
            "Successfully installed py4j-0.10.9.3 pyspark-3.2.1\n"
          ]
        }
      ],
      "source": [
        "pip install pyspark"
      ]
    },
    {
      "cell_type": "code",
      "source": [
        "from pyspark.sql import SparkSession"
      ],
      "metadata": {
        "id": "sXdDvhHphbUi"
      },
      "execution_count": 13,
      "outputs": []
    },
    {
      "cell_type": "code",
      "source": [
        "spark = SparkSession.builder.appName(\"SparkSQL\").getOrCreate()"
      ],
      "metadata": {
        "id": "0K1wC1_5hlpu"
      },
      "execution_count": 14,
      "outputs": []
    },
    {
      "cell_type": "code",
      "source": [
        "people = spark.read.option(\"header\", \"true\").option(\"inferSchema\", \"true\")\\\n",
        "    .csv(\"/content/drive/MyDrive/SparkCourse/fakefriends-header.csv\")"
      ],
      "metadata": {
        "id": "IWTp6uY-hpif"
      },
      "execution_count": 15,
      "outputs": []
    },
    {
      "cell_type": "code",
      "source": [
        "data = people.select(\"age\",\"friends\")"
      ],
      "metadata": {
        "id": "1jQnyofHhro7"
      },
      "execution_count": 16,
      "outputs": []
    },
    {
      "cell_type": "code",
      "source": [
        "data.select(\"age\",\"friends\").show()"
      ],
      "metadata": {
        "colab": {
          "base_uri": "https://localhost:8080/"
        },
        "id": "7umY308-ixqu",
        "outputId": "0862a6a9-1dd8-4d80-dc21-e9e66a5fba92"
      },
      "execution_count": 17,
      "outputs": [
        {
          "output_type": "stream",
          "name": "stdout",
          "text": [
            "+---+-------+\n",
            "|age|friends|\n",
            "+---+-------+\n",
            "| 33|    385|\n",
            "| 26|      2|\n",
            "| 55|    221|\n",
            "| 40|    465|\n",
            "| 68|     21|\n",
            "| 59|    318|\n",
            "| 37|    220|\n",
            "| 54|    307|\n",
            "| 38|    380|\n",
            "| 27|    181|\n",
            "| 53|    191|\n",
            "| 57|    372|\n",
            "| 54|    253|\n",
            "| 56|    444|\n",
            "| 43|     49|\n",
            "| 36|     49|\n",
            "| 22|    323|\n",
            "| 35|     13|\n",
            "| 45|    455|\n",
            "| 60|    246|\n",
            "+---+-------+\n",
            "only showing top 20 rows\n",
            "\n"
          ]
        }
      ]
    },
    {
      "cell_type": "code",
      "source": [
        "from pyspark.sql import Row\n",
        "from pyspark.sql import functions as func"
      ],
      "metadata": {
        "id": "M1qBy9sMk93A"
      },
      "execution_count": 18,
      "outputs": []
    },
    {
      "cell_type": "code",
      "source": [
        "data.groupBy(\"age\").agg(func.round(func.avg(\"friends\"),2).alias(\"friends_avg\")).sort(\"age\").show()"
      ],
      "metadata": {
        "colab": {
          "base_uri": "https://localhost:8080/"
        },
        "id": "sn2Tye2oi8Dt",
        "outputId": "bce55bec-d383-4e25-e8fb-378a498a816f"
      },
      "execution_count": 19,
      "outputs": [
        {
          "output_type": "stream",
          "name": "stdout",
          "text": [
            "+---+-----------+\n",
            "|age|friends_avg|\n",
            "+---+-----------+\n",
            "| 18|     343.38|\n",
            "| 19|     213.27|\n",
            "| 20|      165.0|\n",
            "| 21|     350.88|\n",
            "| 22|     206.43|\n",
            "| 23|      246.3|\n",
            "| 24|      233.8|\n",
            "| 25|     197.45|\n",
            "| 26|     242.06|\n",
            "| 27|     228.13|\n",
            "| 28|      209.1|\n",
            "| 29|     215.92|\n",
            "| 30|     235.82|\n",
            "| 31|     267.25|\n",
            "| 32|     207.91|\n",
            "| 33|     325.33|\n",
            "| 34|      245.5|\n",
            "| 35|     211.63|\n",
            "| 36|      246.6|\n",
            "| 37|     249.33|\n",
            "+---+-----------+\n",
            "only showing top 20 rows\n",
            "\n"
          ]
        }
      ]
    },
    {
      "cell_type": "code",
      "source": [
        "spark.stop()"
      ],
      "metadata": {
        "id": "gJnCi5DIkFt4"
      },
      "execution_count": 9,
      "outputs": []
    }
  ]
}