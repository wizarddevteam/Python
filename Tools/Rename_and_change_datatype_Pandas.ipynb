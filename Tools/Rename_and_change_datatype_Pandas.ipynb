{
  "nbformat": 4,
  "nbformat_minor": 0,
  "metadata": {
    "colab": {
      "name": "Rename and change datatype Pandas.ipynb",
      "provenance": []
    },
    "kernelspec": {
      "name": "python3",
      "display_name": "Python 3"
    },
    "language_info": {
      "name": "python"
    }
  },
  "cells": [
    {
      "cell_type": "code",
      "execution_count": 3,
      "metadata": {
        "colab": {
          "base_uri": "https://localhost:8080/"
        },
        "id": "K1DlGBf-f9jO",
        "outputId": "96fb9b70-29fe-4128-e74c-d18f5b73a3e9"
      },
      "outputs": [
        {
          "output_type": "stream",
          "name": "stdout",
          "text": [
            "     Name Age    School     Country height          birthday\n",
            "0     Tom  20    Oxford   Nicaragua   1.55  2000-11-15 15:00\n",
            "1  Joseph  21  Cambrich        Peru   1.67  1999-10-31 18:45\n",
            "2   Krish  19   Sorbone  Costa Rica   1.71  1989-10-31 20:46\n",
            "3    John  18       UNI   Guatemala   1.54  1959-08-20 22:46\n",
            "\n",
            "Name        object\n",
            "Age         object\n",
            "School      object\n",
            "Country     object\n",
            "height      object\n",
            "birthday    object\n",
            "dtype: object\n",
            "---------------------\n",
            "     NAME  AGE    SCHOOL     COUNTRY  HEIGHT            BIRTHDAY\n",
            "0     Tom   20    Oxford   Nicaragua    1.55 2000-11-15 15:00:00\n",
            "1  Joseph   21  Cambrich        Peru    1.67 1999-10-31 18:45:00\n",
            "2   Krish   19   Sorbone  Costa Rica    1.71 1989-10-31 20:46:00\n",
            "3    John   18       UNI   Guatemala    1.54 1959-08-20 22:46:00\n",
            "\n",
            "NAME                object\n",
            "AGE                  int64\n",
            "SCHOOL              object\n",
            "COUNTRY             object\n",
            "HEIGHT             float64\n",
            "BIRTHDAY    datetime64[ns]\n",
            "dtype: object\n"
          ]
        }
      ],
      "source": [
        "from numpy import datetime_as_string\n",
        "from datetime import date\n",
        "import pandas as pd\n",
        "\n",
        "dic_names = {'Name':'NAME', 'Age':'AGE', 'School':'SCHOOL', 'Country':'COUNTRY', 'height':'HEIGHT', 'birthday':'BIRTHDAY'}\n",
        "dic_types = {'AGE':int, 'HEIGHT':float, 'BIRTHDAY':'date'}\n",
        "dic_types_column = {}\n",
        "dic_types_dates = {}\n",
        "#dic_types_dates = {'BIRTHDAY'}\n",
        "# assign data of lists.\n",
        "data = {'Name': ['Tom', 'Joseph', 'Krish', 'John']\n",
        "    , 'Age': ['20', '21', '19', '18']\n",
        "    , 'School': ['Oxford','Cambrich','Sorbone','UNI']\n",
        "    , 'Country': ['Nicaragua','Peru','Costa Rica','Guatemala']\n",
        "    , 'height': ['1.55','1.67','1.71','1.54']\n",
        "    , 'birthday': ['2000-11-15 15:00', '1999-10-31 18:45', '1989-10-31 20:46', '1959-08-20 22:46']}\n",
        "\n",
        "# Create DataFrame\n",
        "df = pd.DataFrame(data)\n",
        "\n",
        "# Print the output.\n",
        "print(df)\n",
        "print()\n",
        "print(df.dtypes)\n",
        "\n",
        "# Rename dataframe columns\n",
        "df.rename(columns=dic_names, inplace=True)\n",
        "\n",
        "# convert columns\n",
        "for key, value in dic_types.items():\n",
        "  if(value == 'date'):\n",
        "    dic_types_dates[key] = value\n",
        "  else:\n",
        "    dic_types_column[key] = value\n",
        "\n",
        "# convert native types\n",
        "df = df.astype(dic_types_column)\n",
        "\n",
        "# Convert dates\n",
        "for key in dic_types_dates:\n",
        "    df[key] = pd.to_datetime(df[key])\n",
        "\n",
        "print('---------------------')\n",
        "\n",
        "print(df)\n",
        "print()\n",
        "print(df.dtypes)"
      ]
    }
  ]
}